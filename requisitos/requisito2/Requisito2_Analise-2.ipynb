{
  "cells": [
    {
      "cell_type": "markdown",
      "id": "1395ffb7",
      "metadata": {
        "id": "1395ffb7"
      },
      "source": [
        "# Requisito 2 — Análise das Redes de Coautoria (PPgEEC)\n",
        "\n",
        "Este notebook apresenta uma análise das redes de coautoria do PPgEEC ao longo dos períodos de avaliação: 2010–2012, 2013–2016, 2017–2020 e 2021–2024. As visualizações foram construídas com base nas especificações do Requisito 2, que define que o tamanho dos vértices seja proporcional ao número de vizinhos (grau), as arestas vermelhas representem colaborações entre membros permanentes do programa, e a largura das arestas seja determinada pela quantidade de citações compartilhadas. Os cinco autores mais conectados foram destacados em amarelo com rótulo. Todas as redes foram filtradas para exibir apenas a maior componente conectada, e renderizadas com layout de força para facilitar a interpretação visual.\n"
      ]
    },
    {
      "cell_type": "code",
      "execution_count": null,
      "id": "a2be4010",
      "metadata": {
        "id": "a2be4010"
      },
      "outputs": [],
      "source": [
        "# Importação das bibliotecas necessárias\n",
        "import networkx as nx\n",
        "import matplotlib.pyplot as plt\n",
        "\n",
        "# Função principal de visualização de uma rede\n",
        "# Recebe um grafo, um título para a imagem e um parâmetro opcional para aplicar coloração por comunidades\n",
        "\n",
        "def visualizar_rede_final(grafo, titulo, aplicar_comunidades=False):\n",
        "    # Seleciona a maior componente conectada do grafo\n",
        "    componentes = sorted(nx.connected_components(grafo), key=len, reverse=True)\n",
        "    grafo = grafo.subgraph(componentes[0]).copy()\n",
        "\n",
        "    # Calcula o grau de cada vértice e identifica os 5 mais conectados\n",
        "    graus = dict(grafo.degree())\n",
        "    maiores = sorted(graus.items(), key=lambda x: x[1], reverse=True)[:5]\n",
        "    top5 = [n for n, _ in maiores]\n",
        "\n",
        "    # Gera o layout com espaçamento controlado (k)\n",
        "    pos = nx.spring_layout(grafo, seed=42, k=3)\n",
        "\n",
        "    # Define tamanho dos nós com base no grau\n",
        "    tamanhos = [graus[n] * 20 + 30 for n in grafo.nodes()]\n",
        "\n",
        "    # Prepara atributos das arestas: cor, largura e opacidade\n",
        "    cores_arestas = []\n",
        "    larguras_arestas = []\n",
        "    alphas_arestas = []\n",
        "    for u, v in grafo.edges():\n",
        "        is_perm_u = grafo.nodes[u].get('is_permanent', False)\n",
        "        is_perm_v = grafo.nodes[v].get('is_permanent', False)\n",
        "        cor = 'red' if is_perm_u and is_perm_v else 'black'\n",
        "        cores_arestas.append(cor)\n",
        "        larguras_arestas.append(0.5 + grafo[u][v].get('citation_num', 1) * 0.05)\n",
        "        alphas_arestas.append(1.0 if cor == 'red' else 0.05)\n",
        "\n",
        "    # Aplica coloração por comunidades\n",
        "    if aplicar_comunidades:\n",
        "        from networkx.algorithms.community import greedy_modularity_communities\n",
        "        import matplotlib.cm as cm\n",
        "        comunidades = list(greedy_modularity_communities(grafo))\n",
        "        cores_comunidades = {n: i for i, c in enumerate(comunidades) for n in c}\n",
        "        cores_nos = [cores_comunidades[n] for n in grafo.nodes()]\n",
        "        cmap = cm.get_cmap('Set3')\n",
        "    else:\n",
        "        cores_nos = 'skyblue'\n",
        "        cmap = None\n",
        "\n",
        "    # Gera a visualização do grafo\n",
        "    plt.figure(figsize=(16, 12), facecolor='white')\n",
        "    nx.draw_networkx_nodes(\n",
        "        grafo, pos, node_size=tamanhos, node_color=cores_nos,\n",
        "        cmap=cmap, edgecolors='gray', linewidths=0.5\n",
        "    )\n",
        "\n",
        "    for i, (u, v) in enumerate(grafo.edges()):\n",
        "        nx.draw_networkx_edges(\n",
        "            grafo, pos, edgelist=[(u, v)],\n",
        "            edge_color=cores_arestas[i], width=larguras_arestas[i],\n",
        "            alpha=alphas_arestas[i]\n",
        "        )\n",
        "\n",
        "    # Destaque dos top 5 vértices\n",
        "    nx.draw_networkx_nodes(\n",
        "        grafo, pos, nodelist=top5, node_color='gold',\n",
        "        node_size=500, edgecolors='black', linewidths=2\n",
        "    )\n",
        "    nx.draw_networkx_labels(\n",
        "        grafo, pos, labels={n: n for n in top5},\n",
        "        font_size=18, font_color='black', font_weight='bold'\n",
        "    )\n",
        "\n",
        "    # Finaliza e salva a figura\n",
        "    plt.title(titulo, fontsize=16)\n",
        "    plt.axis('off')\n",
        "    nome_arquivo = f\"{titulo.replace(' ', '_')}.png\"\n",
        "    plt.savefig(nome_arquivo, dpi=300, facecolor='white')\n",
        "    plt.show()\n",
        "    print(f\"✅ Imagem salva como: {nome_arquivo}\")"
      ]
    },
    {
      "cell_type": "code",
      "execution_count": null,
      "id": "013852ce",
      "metadata": {
        "id": "013852ce"
      },
      "outputs": [],
      "source": [
        "# Dicionário com caminhos e títulos\n",
        "periodos = {\n",
        "    \"2010-2012.gexf\": \"Rede de Coautoria 2010-2012\",\n",
        "    \"2013-2016.gexf\": \"Rede de Coautoria 2013-2016\",\n",
        "    \"2017-2020.gexf\": \"Rede de Coautoria 2017-2020\",\n",
        "    \"2021-2024.gexf\": \"Rede de Coautoria 2021-2024\"\n",
        "}\n",
        "\n",
        "# Loop para carregar e gerar imagens\n",
        "for caminho, titulo in periodos.items():\n",
        "    G = nx.read_gexf(caminho)\n",
        "    print(f\"\\n📊 Visualizando: {titulo}\")\n",
        "    visualizar_rede_final(G, titulo)"
      ]
    },
    {
      "cell_type": "markdown",
      "id": "043ef68d",
      "metadata": {
        "id": "043ef68d"
      },
      "source": [
        "Durante o período de 2010 a 2012, observa-se uma rede relativamente centralizada, com poucos autores ocupando posições de alta conectividade. As colaborações entre membros permanentes são marcadas por arestas vermelhas e já indicam um núcleo bem formado.\n",
        "\n",
        "Entre 2013 e 2016, a rede se expande significativamente. Novos nós passam a compor o centro da rede e surgem novas conexões entre permanentes, agora com maior frequência e intensidade. Os top 5 autores mantêm posições centrais, embora alguns nomes mudem em relação ao triênio anterior.\n",
        "\n",
        "Na análise de 2017 a 2020, a densidade da rede é visivelmente maior. A estrutura se torna mais complexa, e é possível identificar agrupamentos colaborativos com maior clareza. Os autores mais influentes continuam ocupando o centro da rede, conectando vários grupos e mantendo coesão entre diferentes partes da estrutura.\n",
        "\n",
        "Por fim, no período mais recente (2021 a 2024), nota-se uma maior dispersão e diversidade na rede. Muitos novos autores aparecem nas bordas, e a colaboração entre permanentes permanece presente, mas não é tão predominante quanto antes. Essa dinâmica sugere a entrada de novos participantes no programa e uma distribuição mais heterogênea das colaborações.\n",
        "\n",
        "No geral, observa-se uma evolução consistente da rede, tanto em tamanho quanto em complexidade estrutural. O crescimento em número de nós e arestas reflete o amadurecimento do programa e o aumento nas colaborações. A presença de autores centrais recorrentes ao longo dos períodos também é um indício de liderança ou maior engajamento em atividades de pesquisa colaborativa. A forte presença de arestas vermelhas no período intermediário demonstra que os membros permanentes atuaram como eixos de integração e produção durante essa fase.\n",
        "\n",
        "Apesar dos bons resultados, algumas dificuldades foram encontradas. O layout inicial das redes se apresentava muito denso, prejudicando a interpretação visual. Foram realizados ajustes nos parâmetros de espaçamento (k), nos tamanhos dos nós, na opacidade das arestas e na identificação dos autores mais conectados para melhorar a clareza. Além disso, como os nós não estão nomeados com nomes reais, mas com IDs numéricos, a identificação direta dos autores ficou limitada.\n",
        "\n",
        "Pode-se hipotetizar que os autores mais centrais estão ligados à coordenação de linhas de pesquisa, projetos interinstitucionais ou possuem longa trajetória dentro do programa. A evolução da rede ao longo do tempo sugere um programa mais inclusivo, com maior interação externa e crescimento colaborativo."
      ]
    }
  ],
  "metadata": {
    "colab": {
      "provenance": []
    }
  },
  "nbformat": 4,
  "nbformat_minor": 5
}